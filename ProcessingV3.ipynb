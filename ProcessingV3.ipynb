{
 "cells": [
  {
   "cell_type": "code",
   "execution_count": 1,
   "id": "8776ff6c-8f59-424b-8206-6028f1143598",
   "metadata": {
    "execution": {
     "iopub.execute_input": "2025-02-18T13:27:22.211951Z",
     "iopub.status.busy": "2025-02-18T13:27:22.211691Z",
     "iopub.status.idle": "2025-02-18T13:27:25.066274Z",
     "shell.execute_reply": "2025-02-18T13:27:25.065867Z",
     "shell.execute_reply.started": "2025-02-18T13:27:22.211934Z"
    },
    "tags": []
   },
   "outputs": [
    {
     "name": "stderr",
     "output_type": "stream",
     "text": [
      "/opt/conda/lib/python3.11/site-packages/tqdm/auto.py:21: TqdmWarning: IProgress not found. Please update jupyter and ipywidgets. See https://ipywidgets.readthedocs.io/en/stable/user_install.html\n",
      "  from .autonotebook import tqdm as notebook_tqdm\n"
     ]
    }
   ],
   "source": [
    "from transformers import AutoModelForCausalLM"
   ]
  },
  {
   "cell_type": "code",
   "execution_count": 2,
   "id": "871345d2-ab89-40d9-8301-c9992d402046",
   "metadata": {
    "ExecutionIndicator": {
     "show": true
    },
    "execution": {
     "iopub.execute_input": "2025-02-18T13:27:25.624140Z",
     "iopub.status.busy": "2025-02-18T13:27:25.623806Z",
     "iopub.status.idle": "2025-02-18T13:27:32.281039Z",
     "shell.execute_reply": "2025-02-18T13:27:32.280629Z",
     "shell.execute_reply.started": "2025-02-18T13:27:25.624123Z"
    },
    "tags": []
   },
   "outputs": [
    {
     "name": "stderr",
     "output_type": "stream",
     "text": [
      "Loading checkpoint shards: 100%|██████████| 4/4 [00:05<00:00,  1.39s/it]\n"
     ]
    }
   ],
   "source": [
    "from peft import PeftModel, PeftConfig\n",
    "import torch\n",
    "\n",
    "config = PeftConfig.from_pretrained(\"/mnt/workspace/qwen\")\n",
    "model = AutoModelForCausalLM.from_pretrained(\"/mnt/workspace/Qwen2.5-7B-Instruct\", trust_remote_code=True, torch_dtype=torch.half,  device_map=\"auto\")\n",
    "lora_model = PeftModel.from_pretrained(model, \"/mnt/workspace/qwen\")"
   ]
  },
  {
   "cell_type": "code",
   "execution_count": 3,
   "id": "c6c6075c-be69-4071-a312-2abdf6b722ef",
   "metadata": {
    "execution": {
     "iopub.execute_input": "2025-02-18T13:27:32.375678Z",
     "iopub.status.busy": "2025-02-18T13:27:32.375412Z",
     "iopub.status.idle": "2025-02-18T13:27:32.611346Z",
     "shell.execute_reply": "2025-02-18T13:27:32.610934Z",
     "shell.execute_reply.started": "2025-02-18T13:27:32.375661Z"
    },
    "tags": []
   },
   "outputs": [],
   "source": [
    "from transformers import AutoTokenizer\n",
    "tokenizer=AutoTokenizer.from_pretrained(\"/mnt/workspace/Qwen2.5-7B-Instruct\")"
   ]
  },
  {
   "cell_type": "code",
   "execution_count": 4,
   "id": "fd67ef24-1ff5-44dd-b801-3e51d33cf9c8",
   "metadata": {
    "ExecutionIndicator": {
     "show": true
    },
    "execution": {
     "iopub.execute_input": "2025-02-18T13:27:33.912014Z",
     "iopub.status.busy": "2025-02-18T13:27:33.911756Z",
     "iopub.status.idle": "2025-02-18T13:27:33.937045Z",
     "shell.execute_reply": "2025-02-18T13:27:33.936660Z",
     "shell.execute_reply.started": "2025-02-18T13:27:33.912000Z"
    },
    "tags": []
   },
   "outputs": [],
   "source": [
    "import pandas as pd\n",
    "data=pd.read_json(\"/mnt/workspace/20250208181531_camp_data_step_1_without_answer.jsonl\",lines=True)\n",
    "examples=pd.read_json(\"/mnt/workspace/20250208183027_example_output.jsonl\",lines=True)"
   ]
  },
  {
   "cell_type": "code",
   "execution_count": null,
   "id": "cd29242e-d988-49d4-9c68-7dc045772a2a",
   "metadata": {
    "ExecutionIndicator": {
     "show": true
    },
    "execution": {
     "iopub.execute_input": "2025-02-18T13:34:02.985812Z",
     "iopub.status.busy": "2025-02-18T13:34:02.985524Z"
    },
    "tags": []
   },
   "outputs": [
    {
     "name": "stdout",
     "output_type": "stream",
     "text": [
      "0结束\n",
      "1结束\n",
      "2结束\n",
      "3结束\n",
      "4结束\n",
      "5结束\n",
      "6结束\n",
      "7结束\n",
      "8结束\n",
      "9结束\n",
      "10结束\n",
      "11结束\n",
      "12结束\n",
      "13结束\n",
      "14结束\n",
      "15结束\n",
      "16结束\n",
      "17结束\n",
      "18结束\n",
      "19结束\n",
      "20结束\n",
      "21结束\n",
      "22结束\n",
      "23结束\n",
      "24结束\n",
      "25结束\n",
      "26结束\n",
      "27结束\n",
      "28结束\n",
      "29结束\n",
      "30结束\n",
      "31结束\n",
      "32结束\n",
      "33结束\n",
      "34结束\n",
      "35结束\n",
      "36结束\n",
      "37结束\n",
      "38结束\n",
      "39结束\n",
      "40结束\n",
      "41结束\n",
      "42结束\n",
      "43结束\n",
      "44结束\n",
      "45结束\n",
      "46结束\n",
      "47结束\n",
      "48结束\n",
      "49结束\n",
      "50结束\n",
      "51结束\n",
      "52结束\n",
      "53结束\n",
      "54结束\n",
      "55结束\n",
      "56结束\n",
      "57结束\n"
     ]
    }
   ],
   "source": [
    "device = torch.device(\"cuda:0\" if torch.cuda.is_available() else \"cpu\")\n",
    "out=pd.DataFrame({'id':[],'bingli_json':[],'feature_content':[]})\n",
    "for i in range(0,3000):\n",
    "    prompt = \"以下是患者的病历信息，请你根据提供的信息生成\\\"诊断\\\"和\\\"诊断依据\\\"，\\\"诊断\\\"即患者所患病症的诊断，\\\"诊断依据\\\"即从病历信息中提取的做出诊断的依据。以下是信息：\\n\"\n",
    "    prompt+=data.iloc[i][\"feature_content\"]\n",
    "    messages = [\n",
    "        {\"role\": \"system\", \"content\": \"你是一个专业医生\"},\n",
    "        {\"role\": \"user\", \"content\": prompt}\n",
    "    ]\n",
    "    text = tokenizer.apply_chat_template(\n",
    "        messages,\n",
    "        tokenize=False,\n",
    "        add_generation_prompt=True\n",
    "    )\n",
    "    model_inputs = tokenizer([text], return_tensors=\"pt\").to(model.device)\n",
    "    generated_ids = lora_model.generate(\n",
    "        model_inputs.input_ids,\n",
    "        max_new_tokens=512\n",
    "    )\n",
    "    generated_ids = [\n",
    "        output_ids[len(input_ids):] for input_ids, output_ids in zip(model_inputs.input_ids, generated_ids)\n",
    "    ]\n",
    " \n",
    "    response = tokenizer.batch_decode(generated_ids, skip_special_tokens=True)[0]\n",
    "    t={'id':data.iloc[i][\"id\"],'bingli_json':response,'feature_content':data.iloc[i][\"feature_content\"]}\n",
    "    out.loc[i]=t\n",
    "    print(f\"{i}结束\")\n",
    "\n",
    "out.to_json(\"output.jsonl\",lines=True,orient=\"records\")\n"
   ]
  }
 ],
 "metadata": {
  "kernelspec": {
   "display_name": "Python 3 (ipykernel)",
   "language": "python",
   "name": "python3"
  },
  "language_info": {
   "codemirror_mode": {
    "name": "ipython",
    "version": 3
   },
   "file_extension": ".py",
   "mimetype": "text/x-python",
   "name": "python",
   "nbconvert_exporter": "python",
   "pygments_lexer": "ipython3",
   "version": "3.11.11"
  }
 },
 "nbformat": 4,
 "nbformat_minor": 5
}
