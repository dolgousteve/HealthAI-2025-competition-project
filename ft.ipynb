{
 "cells": [
  {
   "cell_type": "code",
   "execution_count": 1,
   "id": "fc013b74-66c2-4c17-a1ee-31aaf6138a53",
   "metadata": {
    "execution": {
     "iopub.execute_input": "2025-02-18T09:25:25.578224Z",
     "iopub.status.busy": "2025-02-18T09:25:25.577960Z",
     "iopub.status.idle": "2025-02-18T09:25:33.450346Z",
     "shell.execute_reply": "2025-02-18T09:25:33.449920Z",
     "shell.execute_reply.started": "2025-02-18T09:25:25.578207Z"
    },
    "tags": []
   },
   "outputs": [
    {
     "name": "stderr",
     "output_type": "stream",
     "text": [
      "/opt/conda/lib/python3.11/site-packages/tqdm/auto.py:21: TqdmWarning: IProgress not found. Please update jupyter and ipywidgets. See https://ipywidgets.readthedocs.io/en/stable/user_install.html\n",
      "  from .autonotebook import tqdm as notebook_tqdm\n"
     ]
    }
   ],
   "source": [
    "import pandas as pd\n",
    "import datasets\n",
    "from transformers import AutoTokenizer, AutoModelForCausalLM, DataCollatorForSeq2Seq, TrainingArguments, Trainer\n",
    "import torch\n",
    "from peft import AdaLoraConfig, TaskType, get_peft_model"
   ]
  },
  {
   "cell_type": "code",
   "execution_count": 2,
   "id": "2a33ec34-f369-4892-8a99-71feac54b829",
   "metadata": {
    "execution": {
     "iopub.execute_input": "2025-02-18T09:25:33.965926Z",
     "iopub.status.busy": "2025-02-18T09:25:33.965528Z",
     "iopub.status.idle": "2025-02-18T09:25:34.059912Z",
     "shell.execute_reply": "2025-02-18T09:25:34.059521Z",
     "shell.execute_reply.started": "2025-02-18T09:25:33.965909Z"
    },
    "tags": []
   },
   "outputs": [],
   "source": [
    "# 数据获取\n",
    "df=pd.read_json(\"/mnt/workspace/DistillationTrainData.jsonl\",lines=True)\n",
    "ds=datasets.Dataset.from_pandas(df)\n",
    "examples=pd.read_json(\"/mnt/workspace/20250208183027_example_output.jsonl\",lines=True)\n"
   ]
  },
  {
   "cell_type": "code",
   "execution_count": 3,
   "id": "3377a361-f987-4a81-b0e2-a0084509fa9b",
   "metadata": {
    "execution": {
     "iopub.execute_input": "2025-02-18T09:25:35.660752Z",
     "iopub.status.busy": "2025-02-18T09:25:35.660483Z",
     "iopub.status.idle": "2025-02-18T09:25:35.834820Z",
     "shell.execute_reply": "2025-02-18T09:25:35.834413Z",
     "shell.execute_reply.started": "2025-02-18T09:25:35.660736Z"
    },
    "tags": []
   },
   "outputs": [],
   "source": [
    "# 分词器定义\n",
    "tokenizer = AutoTokenizer.from_pretrained('/mnt/workspace/Qwen2.5-7B-Instruct', use_fast=False, trust_remote_code=True)\n"
   ]
  },
  {
   "cell_type": "code",
   "execution_count": 4,
   "id": "a03635f1-d8b0-4278-ad35-3afd0ec630e5",
   "metadata": {
    "ExecutionIndicator": {
     "show": true
    },
    "execution": {
     "iopub.execute_input": "2025-02-18T09:25:36.607077Z",
     "iopub.status.busy": "2025-02-18T09:25:36.606800Z",
     "iopub.status.idle": "2025-02-18T09:25:56.855063Z",
     "shell.execute_reply": "2025-02-18T09:25:56.854539Z",
     "shell.execute_reply.started": "2025-02-18T09:25:36.607059Z"
    },
    "tags": []
   },
   "outputs": [
    {
     "name": "stderr",
     "output_type": "stream",
     "text": [
      "Map: 100%|██████████| 4000/4000 [00:18<00:00, 217.28 examples/s]\n"
     ]
    }
   ],
   "source": [
    "def process_func(example):\n",
    "    MAX_LENGTH = 1024  # 最大序列长度\n",
    "    system_prompt = \"<|im_start|>system\\n你是一个专业医生<|im_end|>\\n\"\n",
    "    user_input = f\"<|im_start|>user\\n接下来患者会给你提供病历信息，请你根据提供的信息生成\\\"诊断\\\"和\\\"诊断依据\\\"，\\\"诊断\\\"即患者所患病症的诊断，\\\"诊断依据\\\"即从病历信息中提取的做出诊断的依据。以下是信息：\\n{example['feature_content']}<|im_end|>\\n\"\n",
    "    assistant_output = f\"<|im_start|>assistant\\n{example['bingli_json']}<|im_end|>\"\n",
    "\n",
    "    # 编码指令和回答\n",
    "    instruction = tokenizer(system_prompt + user_input, add_special_tokens=False)\n",
    "    response = tokenizer(assistant_output, add_special_tokens=False)\n",
    "\n",
    "    # 拼接输入序列\n",
    "    input_ids = instruction[\"input_ids\"] + response[\"input_ids\"]\n",
    "    attention_mask = instruction[\"attention_mask\"] + response[\"attention_mask\"]\n",
    "    labels = [-100] * len(instruction[\"input_ids\"]) + response[\"input_ids\"]\n",
    "\n",
    "    # 截断过长序列\n",
    "    if len(input_ids) > MAX_LENGTH:\n",
    "        input_ids = input_ids[:MAX_LENGTH]\n",
    "        attention_mask = attention_mask[:MAX_LENGTH]\n",
    "        labels = labels[:MAX_LENGTH]\n",
    "\n",
    "    return {\n",
    "        \"input_ids\": input_ids,\n",
    "        \"attention_mask\": attention_mask,\n",
    "        \"labels\": labels\n",
    "    }\n",
    "tokenized_id= ds.map(process_func, remove_columns=ds.column_names)"
   ]
  },
  {
   "cell_type": "code",
   "execution_count": 5,
   "id": "e8aa39fe-b1a0-4a69-a186-00c83cd462b5",
   "metadata": {
    "ExecutionIndicator": {
     "show": true
    },
    "execution": {
     "iopub.execute_input": "2025-02-18T09:25:59.007965Z",
     "iopub.status.busy": "2025-02-18T09:25:59.007706Z",
     "iopub.status.idle": "2025-02-18T09:27:23.820643Z",
     "shell.execute_reply": "2025-02-18T09:27:23.820251Z",
     "shell.execute_reply.started": "2025-02-18T09:25:59.007951Z"
    },
    "tags": []
   },
   "outputs": [
    {
     "name": "stderr",
     "output_type": "stream",
     "text": [
      "Loading checkpoint shards: 100%|██████████| 4/4 [01:24<00:00, 21.12s/it]\n"
     ]
    }
   ],
   "source": [
    "# 导入模型\n",
    "model = AutoModelForCausalLM.from_pretrained('/mnt/workspace/Qwen2.5-7B-Instruct', trust_remote_code=True, torch_dtype=torch.half,device_map=\"auto\")\n",
    "model.enable_input_require_grads() \n"
   ]
  },
  {
   "cell_type": "code",
   "execution_count": 6,
   "id": "79900a0f-5b94-45cb-aecb-ae9ff1b9e263",
   "metadata": {
    "ExecutionIndicator": {
     "show": true
    },
    "execution": {
     "iopub.execute_input": "2025-02-18T09:27:25.018348Z",
     "iopub.status.busy": "2025-02-18T09:27:25.018083Z",
     "iopub.status.idle": "2025-02-18T09:27:25.587791Z",
     "shell.execute_reply": "2025-02-18T09:27:25.587378Z",
     "shell.execute_reply.started": "2025-02-18T09:27:25.018332Z"
    },
    "tags": []
   },
   "outputs": [],
   "source": [
    "# ada-lora参数\n",
    "config = AdaLoraConfig(\n",
    "    task_type=TaskType.CAUSAL_LM,\n",
    "    target_modules = [\"q_proj\", \"k_proj\", \"v_proj\", \"o_proj\",\n",
    "                      \"gate_proj\", \"up_proj\", \"down_proj\",],\n",
    "    inference_mode=False, \n",
    "    r=8, \n",
    "    lora_alpha=16, \n",
    "    lora_dropout=0.1\n",
    "    # beta等参数采取默认值\n",
    ")\n",
    "\n",
    "model = get_peft_model(model, config)"
   ]
  },
  {
   "cell_type": "code",
   "execution_count": 7,
   "id": "fc6b0e85-aa43-4072-9241-b3c09d5ba3e7",
   "metadata": {
    "execution": {
     "iopub.execute_input": "2025-02-18T09:27:26.268420Z",
     "iopub.status.busy": "2025-02-18T09:27:26.268156Z",
     "iopub.status.idle": "2025-02-18T09:27:26.275235Z",
     "shell.execute_reply": "2025-02-18T09:27:26.274771Z",
     "shell.execute_reply.started": "2025-02-18T09:27:26.268405Z"
    },
    "tags": []
   },
   "outputs": [
    {
     "name": "stdout",
     "output_type": "stream",
     "text": [
      "trainable params: 30,279,984 || all params: 7,645,896,692 || trainable%: 0.3960\n"
     ]
    }
   ],
   "source": [
    "model.print_trainable_parameters()"
   ]
  },
  {
   "cell_type": "code",
   "execution_count": 8,
   "id": "8d939555-b0d0-4ad7-b1cc-10037fe0c336",
   "metadata": {
    "ExecutionIndicator": {
     "show": true
    },
    "execution": {
     "iopub.execute_input": "2025-02-18T09:27:29.472272Z",
     "iopub.status.busy": "2025-02-18T09:27:29.471973Z",
     "iopub.status.idle": "2025-02-18T09:27:29.654843Z",
     "shell.execute_reply": "2025-02-18T09:27:29.654442Z",
     "shell.execute_reply.started": "2025-02-18T09:27:29.472254Z"
    },
    "tags": []
   },
   "outputs": [],
   "source": [
    "# 训练\n",
    "args = TrainingArguments(\n",
    "    output_dir=\"./output/Qwen\",\n",
    "    per_device_train_batch_size=2,\n",
    "    gradient_accumulation_steps=2,\n",
    "    num_train_epochs=5,\n",
    "    gradient_checkpointing=True,\n",
    "    save_steps=500,\n",
    "    learning_rate=1e-4,\n",
    ")\n",
    "trainer = Trainer(\n",
    "    model=model,\n",
    "    args=args,\n",
    "    train_dataset=tokenized_id,\n",
    "    data_collator=DataCollatorForSeq2Seq(tokenizer=tokenizer, padding=True),\n",
    ")"
   ]
  },
  {
   "cell_type": "code",
   "execution_count": 9,
   "id": "434f7b06-608b-484d-91f7-90f957546663",
   "metadata": {
    "execution": {
     "iopub.execute_input": "2025-02-18T09:27:32.584748Z",
     "iopub.status.busy": "2025-02-18T09:27:32.584313Z",
     "iopub.status.idle": "2025-02-18T13:26:08.678625Z",
     "shell.execute_reply": "2025-02-18T13:26:08.678238Z",
     "shell.execute_reply.started": "2025-02-18T09:27:32.584729Z"
    },
    "tags": []
   },
   "outputs": [
    {
     "name": "stderr",
     "output_type": "stream",
     "text": [
      "`use_cache=True` is incompatible with gradient checkpointing. Setting `use_cache=False`.\n"
     ]
    },
    {
     "data": {
      "text/html": [
       "\n",
       "    <div>\n",
       "      \n",
       "      <progress value='5000' max='5000' style='width:300px; height:20px; vertical-align: middle;'></progress>\n",
       "      [5000/5000 3:58:32, Epoch 5/5]\n",
       "    </div>\n",
       "    <table border=\"1\" class=\"dataframe\">\n",
       "  <thead>\n",
       " <tr style=\"text-align: left;\">\n",
       "      <th>Step</th>\n",
       "      <th>Training Loss</th>\n",
       "    </tr>\n",
       "  </thead>\n",
       "  <tbody>\n",
       "    <tr>\n",
       "      <td>500</td>\n",
       "      <td>1.932300</td>\n",
       "    </tr>\n",
       "    <tr>\n",
       "      <td>1000</td>\n",
       "      <td>0.767200</td>\n",
       "    </tr>\n",
       "    <tr>\n",
       "      <td>1500</td>\n",
       "      <td>0.656400</td>\n",
       "    </tr>\n",
       "    <tr>\n",
       "      <td>2000</td>\n",
       "      <td>0.611600</td>\n",
       "    </tr>\n",
       "    <tr>\n",
       "      <td>2500</td>\n",
       "      <td>0.604600</td>\n",
       "    </tr>\n",
       "    <tr>\n",
       "      <td>3000</td>\n",
       "      <td>0.609800</td>\n",
       "    </tr>\n",
       "    <tr>\n",
       "      <td>3500</td>\n",
       "      <td>0.583500</td>\n",
       "    </tr>\n",
       "    <tr>\n",
       "      <td>4000</td>\n",
       "      <td>0.577900</td>\n",
       "    </tr>\n",
       "    <tr>\n",
       "      <td>4500</td>\n",
       "      <td>0.562200</td>\n",
       "    </tr>\n",
       "    <tr>\n",
       "      <td>5000</td>\n",
       "      <td>0.562000</td>\n",
       "    </tr>\n",
       "  </tbody>\n",
       "</table><p>"
      ],
      "text/plain": [
       "<IPython.core.display.HTML object>"
      ]
     },
     "metadata": {},
     "output_type": "display_data"
    },
    {
     "data": {
      "text/plain": [
       "TrainOutput(global_step=5000, training_loss=0.7467437622070312, metrics={'train_runtime': 14315.8901, 'train_samples_per_second': 1.397, 'train_steps_per_second': 0.349, 'total_flos': 4.4638448698444506e+17, 'train_loss': 0.7467437622070312, 'epoch': 5.0})"
      ]
     },
     "execution_count": 9,
     "metadata": {},
     "output_type": "execute_result"
    }
   ],
   "source": [
    "trainer.train()"
   ]
  },
  {
   "cell_type": "code",
   "execution_count": 10,
   "id": "566dd522-abae-4d4c-9093-ceda2c1943fb",
   "metadata": {
    "ExecutionIndicator": {
     "show": true
    },
    "execution": {
     "iopub.execute_input": "2025-02-18T13:26:58.895848Z",
     "iopub.status.busy": "2025-02-18T13:26:58.895596Z",
     "iopub.status.idle": "2025-02-18T13:26:59.025694Z",
     "shell.execute_reply": "2025-02-18T13:26:59.025295Z",
     "shell.execute_reply.started": "2025-02-18T13:26:58.895831Z"
    },
    "tags": []
   },
   "outputs": [],
   "source": [
    "model.save_pretrained(\"qwen\")"
   ]
  }
 ],
 "metadata": {
  "kernelspec": {
   "display_name": "Python 3 (ipykernel)",
   "language": "python",
   "name": "python3"
  },
  "language_info": {
   "codemirror_mode": {
    "name": "ipython",
    "version": 3
   },
   "file_extension": ".py",
   "mimetype": "text/x-python",
   "name": "python",
   "nbconvert_exporter": "python",
   "pygments_lexer": "ipython3",
   "version": "3.11.11"
  }
 },
 "nbformat": 4,
 "nbformat_minor": 5
}
